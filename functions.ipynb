{
  "nbformat": 4,
  "nbformat_minor": 0,
  "metadata": {
    "colab": {
      "provenance": []
    },
    "kernelspec": {
      "name": "python3",
      "display_name": "Python 3"
    },
    "language_info": {
      "name": "python"
    }
  },
  "cells": [
    {
      "cell_type": "markdown",
      "source": [
        "\n",
        "\n",
        "# function\n",
        "\n",
        "\n",
        "\n"
      ],
      "metadata": {
        "id": "BNK5XNl2Vqq6"
      }
    },
    {
      "cell_type": "markdown",
      "source": [
        "1=What is the difference between a function and a method in Python?\n",
        "-A function is a standalone block of code defined using def, while a method is a function associated with an object and called on an instance of a class. Methods are defined inside classes and can access the instance (self) and class (cls) data.\n",
        "\n",
        "2=. Explain the concept of function arguments and parameters in Python.?\n",
        "-In Python, parameters are the variables listed in a function's definition, while arguments are the actual values passed to the function when calling it.\n",
        "\n",
        "3= What are the different ways to define and call a function in Python?\n",
        "-In Python, functions can be defined and called in multiple ways. The most common way is using the def keyword, where a function is defined with a name and called by passing required arguments. Default arguments can be provided to make parameters optional when calling the function. To handle an arbitrary number of positional arguments, *args is used, which collects all extra arguments into a tuple, while **kwargs is used to collect keyword arguments into a dictionary. Python also supports lambda functions, which are anonymous, single-expression functions typically used for short, inline operations. Functions can also be nested, meaning one function is defined inside another for encapsulation.\n",
        "\n",
        "4= What is the purpose of the `return` statement in a Python function?\n",
        "-The return statement in a Python function is used to send a value (or multiple values) back to the caller. It marks the end of the function’s execution and allows the function to return data for further use.\n",
        "\n",
        "5=. What are iterators in Python and how do they differ from iterables?\n",
        "-Iterable: An object that can return an iterator (e.g., lists, tuples, strings). It implements the iter() method.\n",
        "Iterator: An object that produces values one at a time using the next() method and remembers its state. It implements both iter() and next() methods.\n",
        "\n",
        "6= Explain the concept of generators in Python and how they are defined.\n",
        "-An iterable is an object that can be looped over (e.g., lists, tuples, dictionaries) and has an iter() method.\n",
        "\n",
        "An iterator is an object that produces values one at a time using next(), without storing them in memory. It is created using iter(iterable).\n",
        "\n",
        "Difference: Iterables can generate an iterator, while iterators maintain their state and produce values on demand\n",
        "\n",
        "7= What are the advantages of using generators over regular functions?\n",
        "-Generators in Python are more memory-efficient than regular functions because they produce values lazily using yield, generating one value at a time instead of storing them all in memory.\n",
        "Advantages:\n",
        "Memory Efficiency – They don’t store the entire result in memory.\n",
        "Faster Execution – They yield values on demand, reducing computation time.\n",
        "State Retention – Maintain their state between calls, unlike regular functions.\n",
        "Easy to Implement – Simplify code for iterators without managing iter() and next().\n",
        "\n",
        "8=What is a lambda function in Python and when is it typically used?\n",
        "-A lambda function in Python is an anonymous, single-expression function defined using the lambda keyword. It is typically used for short, simple operations where a full function definition is unnecessary.\n",
        "\n",
        "9=. Explain the purpose and usage of the `map()` function in Python\n",
        "-The map() function in Python applies a given function to all items in an iterable (like a list or tuple) and returns a map object (an iterator). It is useful for transforming data without using explicit loops.\n",
        "\n",
        "10= What is the difference between `map()`, `reduce()`, and `filter()` functions in Python?\n",
        "-map() transforms elements.\n",
        "filter() selects elements.\n",
        "reduce() collapses elements into a single value.\n",
        "\n",
        "11= Using pen & Paper write the internal mechanism for sum operation using  reduce function on this given\n",
        "list:[47,11,42,13]\n",
        "\n",
        "-The reduce() function applies a binary function cumulatively to the -\n",
        "elements of an iterable, reducing it to a single result. Step-by-Step Internal Mechanism for reduce() on [47, 11, 42, 13] Code Representation:\n",
        "\n"
      ],
      "metadata": {
        "id": "qfikV1ev0yqt"
      }
    },
    {
      "cell_type": "code",
      "source": [
        "from functools import reduce\n",
        "\n",
        "nums = [47, 11, 42, 13]\n",
        "result = reduce(lambda x, y: x + y, nums)\n",
        "print(result)  # Output: 113\n"
      ],
      "metadata": {
        "id": "orxobvjQVgjy",
        "colab": {
          "base_uri": "https://localhost:8080/"
        },
        "outputId": "6a83aa92-7a5f-4b5b-931f-5768e2914265"
      },
      "execution_count": 1,
      "outputs": [
        {
          "output_type": "stream",
          "name": "stdout",
          "text": [
            "113\n"
          ]
        }
      ]
    },
    {
      "cell_type": "markdown",
      "source": [
        "Internal Execution on Paper:\n",
        "Step 1: Take the first two elements → 47 + 11 = 58\n",
        "Step 2: Take the result and the next element → 58 + 42 = 100\n",
        "Step 3: Take the result and the last element → 100 + 13 = 113 Final Output: 113\n",
        "                   Step\tx\ty\tResult(x + y)\n",
        "                     1\t47\t11\t58\n",
        "                     2\t58\t42\t100\n",
        "                     3\t100\t13\t113\n",
        "  "
      ],
      "metadata": {
        "id": "RG54ZL3zNkey"
      }
    },
    {
      "cell_type": "markdown",
      "source": [
        "#practical question\n"
      ],
      "metadata": {
        "id": "BSox4qP2N8BU"
      }
    },
    {
      "cell_type": "markdown",
      "source": [
        "1. Write a Python function that takes a list of numbers as input and returns the sum of all even numbers in\n",
        "the list."
      ],
      "metadata": {
        "id": "DVBGxaFROF2G"
      }
    },
    {
      "cell_type": "code",
      "source": [
        "def sum_even_numbers(numbers):\n",
        "    return sum(num for num in numbers if num % 2 == 0)\n",
        "# Example usage:\n",
        "#nums = [1, 2, 3, 4, 5, 6]\n",
        "#print(sum_of_evens(nums))  # Output: 12 (2 + 4 + 6)\n",
        "\n"
      ],
      "metadata": {
        "id": "0Zan924uNjLp"
      },
      "execution_count": 6,
      "outputs": []
    },
    {
      "cell_type": "markdown",
      "source": [
        "2.Create a Python function that accepts a string and returns the reverse of that string."
      ],
      "metadata": {
        "id": "sMh9GfqKPFvm"
      }
    },
    {
      "cell_type": "code",
      "source": [
        "def reverse_string(s):\n",
        "    return s[::-1]  # Uses slicing to reverse the string\n",
        "\n",
        "# Example usage:\n",
        "text = \"hello\"\n",
        "print(reverse_string(text))  # Output: \"olleh\""
      ],
      "metadata": {
        "colab": {
          "base_uri": "https://localhost:8080/"
        },
        "id": "omJ-o1RPPhA1",
        "outputId": "8fb8c3bf-620b-4725-a1d6-3a627e2ab55d"
      },
      "execution_count": 7,
      "outputs": [
        {
          "output_type": "stream",
          "name": "stdout",
          "text": [
            "olleh\n"
          ]
        }
      ]
    },
    {
      "cell_type": "markdown",
      "source": [
        "3. Implement a Python function that takes a list of integers and returns a new list containing the squares of\n",
        "each number."
      ],
      "metadata": {
        "id": "kdO5UedfPkGA"
      }
    },
    {
      "cell_type": "code",
      "source": [
        "def square_numbers(numbers):\n",
        "    return [num ** 2 for num in numbers]  # List comprehension for squaring\n",
        "\n",
        "# Example usage:\n",
        "nums = [1, 2, 3, 4, 5]\n",
        "print(square_numbers(nums))  # Output: [1, 4, 9, 16, 25]"
      ],
      "metadata": {
        "colab": {
          "base_uri": "https://localhost:8080/"
        },
        "id": "VXed2SptOAG8",
        "outputId": "d449e6c1-88da-438a-9c5f-3d1bde409312"
      },
      "execution_count": 17,
      "outputs": [
        {
          "output_type": "stream",
          "name": "stdout",
          "text": [
            "[1, 4, 9, 16, 25]\n"
          ]
        }
      ]
    },
    {
      "cell_type": "markdown",
      "source": [
        "4.Write a Python function that checks if a given number is prime or not from 1 to 200."
      ],
      "metadata": {
        "id": "nKFpZWL8PrT9"
      }
    },
    {
      "cell_type": "code",
      "source": [
        "def is_prime(n):\n",
        "    if n < 2:\n",
        "        return False  # 0 and 1 are not prime numbers\n",
        "    for i in range(2, int(n ** 0.5) + 1):  # Check divisibility up to sqrt(n)\n",
        "        if n % i == 0:\n",
        "            return False\n",
        "    return True\n",
        "\n",
        "# Check prime numbers from 1 to 200\n",
        "primes = [num for num in range(1, 201) if is_prime(num)]\n",
        "print(primes)"
      ],
      "metadata": {
        "colab": {
          "base_uri": "https://localhost:8080/"
        },
        "id": "ZmzQioiPPvSs",
        "outputId": "4282f020-7932-49f3-e568-ca717693534a"
      },
      "execution_count": 16,
      "outputs": [
        {
          "output_type": "stream",
          "name": "stdout",
          "text": [
            "[2, 3, 5, 7, 11, 13, 17, 19, 23, 29, 31, 37, 41, 43, 47, 53, 59, 61, 67, 71, 73, 79, 83, 89, 97, 101, 103, 107, 109, 113, 127, 131, 137, 139, 149, 151, 157, 163, 167, 173, 179, 181, 191, 193, 197, 199]\n"
          ]
        }
      ]
    },
    {
      "cell_type": "markdown",
      "source": [
        "5.5. Create an iterator class in Python that generates the Fibonacci sequence up to a specified number of\n",
        "terms.\n",
        "\n"
      ],
      "metadata": {
        "id": "9xpi_j3BPzHE"
      }
    },
    {
      "cell_type": "code",
      "source": [
        "class FibonacciIterator:\n",
        "    def __init__(self, n_terms):\n",
        "        self.n_terms = n_terms  # Number of terms to generate\n",
        "        self.a, self.b = 0, 1   # Initial Fibonacci numbers\n",
        "        self.count = 0          # Counter to track the number of terms\n",
        "\n",
        "    def __iter__(self):\n",
        "        return self  # Returns the iterator object\n",
        "\n",
        "    def __next__(self):\n",
        "        if self.count >= self.n_terms:\n",
        "            raise StopIteration  # Stops iteration when limit is reached\n",
        "\n",
        "        fib_num = self.a\n",
        "        self.a, self.b = self.b, self.a + self.b  # Update Fibonacci numbers\n",
        "        self.count += 1\n",
        "        return fib_num  # Return the current Fibonacci number\n",
        "\n",
        "# Example usage:\n",
        "fib_iter = FibonacciIterator(10)  # Generate first 10 Fibonacci numbers\n",
        "for num in fib_iter:\n",
        "    print(num, end=\" \")  # Output: 0 1 1 2 3 5 8 13 21 34"
      ],
      "metadata": {
        "colab": {
          "base_uri": "https://localhost:8080/"
        },
        "id": "0laZmNW0P5-4",
        "outputId": "5485efb9-d310-4c92-cc39-0b8008ab1e2e"
      },
      "execution_count": 15,
      "outputs": [
        {
          "output_type": "stream",
          "name": "stdout",
          "text": [
            "0 1 1 2 3 5 8 13 21 34 "
          ]
        }
      ]
    },
    {
      "cell_type": "markdown",
      "source": [
        "6. Write a generator function in Python that yields the powers of 2 up to a given exponent.\n",
        "\n"
      ],
      "metadata": {
        "id": "iz_dFoQ2P-hp"
      }
    },
    {
      "cell_type": "code",
      "source": [
        "def powers_of_two(max_exponent):\n",
        "    for exponent in range(max_exponent + 1):\n",
        "        yield 2 ** exponent  # Generate powers of 2\n",
        "\n",
        "# Example usage:\n",
        "for power in powers_of_two(5):\n",
        "    print(power, end=\" \")  # Output: 1 2 4 8 16 32"
      ],
      "metadata": {
        "colab": {
          "base_uri": "https://localhost:8080/"
        },
        "id": "Y-K5_Ln8QCGx",
        "outputId": "6a86a0e9-cb37-4ba7-d9cd-91e233776ae0"
      },
      "execution_count": 14,
      "outputs": [
        {
          "output_type": "stream",
          "name": "stdout",
          "text": [
            "1 2 4 8 16 32 "
          ]
        }
      ]
    },
    {
      "cell_type": "markdown",
      "source": [
        "7. Implement a generator function that reads a file line by line and yields each line as a string."
      ],
      "metadata": {
        "id": "3seu1Q1fQGAe"
      }
    },
    {
      "cell_type": "code",
      "source": [
        "def read_file_line_by_line(file_path):\n",
        "    with open(file_path, 'r', encoding='utf-8') as file:\n",
        "        for line in file:\n",
        "            yield line.strip()  # Yield each line after stripping newline characters\n",
        "\n",
        "# Example usage:\n",
        "file_path = \"example.txt\"  # Replace with your file path\n",
        "for line in read_file_line_by_line(file_path):\n",
        "    print(line)  # Prints each line from the file"
      ],
      "metadata": {
        "colab": {
          "base_uri": "https://localhost:8080/",
          "height": 315
        },
        "id": "ssImwVerQKDh",
        "outputId": "2076411a-fdcc-4429-e403-ae51509749f1"
      },
      "execution_count": 13,
      "outputs": [
        {
          "output_type": "error",
          "ename": "FileNotFoundError",
          "evalue": "[Errno 2] No such file or directory: 'example.txt'",
          "traceback": [
            "\u001b[0;31m---------------------------------------------------------------------------\u001b[0m",
            "\u001b[0;31mFileNotFoundError\u001b[0m                         Traceback (most recent call last)",
            "\u001b[0;32m<ipython-input-13-54053e13d60e>\u001b[0m in \u001b[0;36m<cell line: 0>\u001b[0;34m()\u001b[0m\n\u001b[1;32m      6\u001b[0m \u001b[0;31m# Example usage:\u001b[0m\u001b[0;34m\u001b[0m\u001b[0;34m\u001b[0m\u001b[0m\n\u001b[1;32m      7\u001b[0m \u001b[0mfile_path\u001b[0m \u001b[0;34m=\u001b[0m \u001b[0;34m\"example.txt\"\u001b[0m  \u001b[0;31m# Replace with your file path\u001b[0m\u001b[0;34m\u001b[0m\u001b[0;34m\u001b[0m\u001b[0m\n\u001b[0;32m----> 8\u001b[0;31m \u001b[0;32mfor\u001b[0m \u001b[0mline\u001b[0m \u001b[0;32min\u001b[0m \u001b[0mread_file_line_by_line\u001b[0m\u001b[0;34m(\u001b[0m\u001b[0mfile_path\u001b[0m\u001b[0;34m)\u001b[0m\u001b[0;34m:\u001b[0m\u001b[0;34m\u001b[0m\u001b[0;34m\u001b[0m\u001b[0m\n\u001b[0m\u001b[1;32m      9\u001b[0m     \u001b[0mprint\u001b[0m\u001b[0;34m(\u001b[0m\u001b[0mline\u001b[0m\u001b[0;34m)\u001b[0m  \u001b[0;31m# Prints each line from the file\u001b[0m\u001b[0;34m\u001b[0m\u001b[0;34m\u001b[0m\u001b[0m\n",
            "\u001b[0;32m<ipython-input-13-54053e13d60e>\u001b[0m in \u001b[0;36mread_file_line_by_line\u001b[0;34m(file_path)\u001b[0m\n\u001b[1;32m      1\u001b[0m \u001b[0;32mdef\u001b[0m \u001b[0mread_file_line_by_line\u001b[0m\u001b[0;34m(\u001b[0m\u001b[0mfile_path\u001b[0m\u001b[0;34m)\u001b[0m\u001b[0;34m:\u001b[0m\u001b[0;34m\u001b[0m\u001b[0;34m\u001b[0m\u001b[0m\n\u001b[0;32m----> 2\u001b[0;31m     \u001b[0;32mwith\u001b[0m \u001b[0mopen\u001b[0m\u001b[0;34m(\u001b[0m\u001b[0mfile_path\u001b[0m\u001b[0;34m,\u001b[0m \u001b[0;34m'r'\u001b[0m\u001b[0;34m,\u001b[0m \u001b[0mencoding\u001b[0m\u001b[0;34m=\u001b[0m\u001b[0;34m'utf-8'\u001b[0m\u001b[0;34m)\u001b[0m \u001b[0;32mas\u001b[0m \u001b[0mfile\u001b[0m\u001b[0;34m:\u001b[0m\u001b[0;34m\u001b[0m\u001b[0;34m\u001b[0m\u001b[0m\n\u001b[0m\u001b[1;32m      3\u001b[0m         \u001b[0;32mfor\u001b[0m \u001b[0mline\u001b[0m \u001b[0;32min\u001b[0m \u001b[0mfile\u001b[0m\u001b[0;34m:\u001b[0m\u001b[0;34m\u001b[0m\u001b[0;34m\u001b[0m\u001b[0m\n\u001b[1;32m      4\u001b[0m             \u001b[0;32myield\u001b[0m \u001b[0mline\u001b[0m\u001b[0;34m.\u001b[0m\u001b[0mstrip\u001b[0m\u001b[0;34m(\u001b[0m\u001b[0;34m)\u001b[0m  \u001b[0;31m# Yield each line after stripping newline characters\u001b[0m\u001b[0;34m\u001b[0m\u001b[0;34m\u001b[0m\u001b[0m\n\u001b[1;32m      5\u001b[0m \u001b[0;34m\u001b[0m\u001b[0m\n",
            "\u001b[0;31mFileNotFoundError\u001b[0m: [Errno 2] No such file or directory: 'example.txt'"
          ]
        }
      ]
    },
    {
      "cell_type": "markdown",
      "source": [
        "8.. Use a lambda function in Python to sort a list of tuples based on the second element of each tuple"
      ],
      "metadata": {
        "id": "r3uv5rZ3QQK1"
      }
    },
    {
      "cell_type": "code",
      "source": [
        "# Sample list of tuples\n",
        "tuples_list = [(1, 3), (4, 1), (2, 5), (3, 2)]\n",
        "\n",
        "# Sorting based on the second element of each tuple\n",
        "sorted_list = sorted(tuples_list, key=lambda x: x[1])\n",
        "\n",
        "print(sorted_list)  # Output: [(4, 1), (3, 2), (1, 3), (2, 5)]\n",
        "\n",
        "# For in-place sorting, use list.sort():\n",
        "\n",
        "tuples_list.sort(key=lambda x: x[1])\n",
        "print(tuples_list)  # Output: [(4, 1), (3, 2), (1, 3), (2, 5)]"
      ],
      "metadata": {
        "colab": {
          "base_uri": "https://localhost:8080/"
        },
        "id": "sRuOWBNMQU6V",
        "outputId": "1b91344b-89b8-420f-ec1f-9203ba474ce2"
      },
      "execution_count": 12,
      "outputs": [
        {
          "output_type": "stream",
          "name": "stdout",
          "text": [
            "[(4, 1), (3, 2), (1, 3), (2, 5)]\n",
            "[(4, 1), (3, 2), (1, 3), (2, 5)]\n"
          ]
        }
      ]
    },
    {
      "cell_type": "markdown",
      "source": [
        "9. Write a Python program that uses `map()` to convert a list of temperatures from Celsius to Fahrenheit."
      ],
      "metadata": {
        "id": "T6WFMlbIQYCx"
      }
    },
    {
      "cell_type": "code",
      "source": [
        "# Function to convert Celsius to Fahrenheit\n",
        "def celsius_to_fahrenheit(c):\n",
        "    return (c * 9/5) + 32\n",
        "\n",
        "# List of temperatures in Celsius\n",
        "celsius_temps = [0, 20, 37, 100]\n",
        "\n",
        "# Convert to Fahrenheit using map()\n",
        "fahrenheit_temps = list(map(celsius_to_fahrenheit, celsius_temps))\n",
        "\n",
        "print(fahrenheit_temps)  # Output: [32.0, 68.0, 98.6, 212.0]\n",
        "\n",
        "#Alternative using Lambda:\n",
        "\n",
        "fahrenheit_temps = list(map(lambda c: (c * 9/5) + 32, celsius_temps))\n",
        "print(fahrenheit_temps)  # Output: [32.0, 68.0, 98.6, 212.0]"
      ],
      "metadata": {
        "colab": {
          "base_uri": "https://localhost:8080/"
        },
        "id": "FSy62U2EQb3M",
        "outputId": "bfa8cc0e-36eb-475e-a7aa-fa203d11ed4a"
      },
      "execution_count": 11,
      "outputs": [
        {
          "output_type": "stream",
          "name": "stdout",
          "text": [
            "[32.0, 68.0, 98.6, 212.0]\n",
            "[32.0, 68.0, 98.6, 212.0]\n"
          ]
        }
      ]
    },
    {
      "cell_type": "markdown",
      "source": [
        "10.0. Create a Python program that uses `filter()` to remove all the vowels from a given string."
      ],
      "metadata": {
        "id": "_LJQPE-2QgdN"
      }
    },
    {
      "cell_type": "code",
      "source": [
        "def remove_vowels(s):\n",
        "    vowels = \"aeiouAEIOU\"\n",
        "    return \"\".join(filter(lambda char: char not in vowels, s))\n",
        "\n",
        "# Example usage:\n",
        "text = \"Hello, World!\"\n",
        "result = remove_vowels(text)\n",
        "print(result)  # Output: \"Hll, Wrld!\""
      ],
      "metadata": {
        "colab": {
          "base_uri": "https://localhost:8080/"
        },
        "id": "00UfP4u4Qjyu",
        "outputId": "0f4f0291-0844-4cd5-c712-04c1abb2ca66"
      },
      "execution_count": 10,
      "outputs": [
        {
          "output_type": "stream",
          "name": "stdout",
          "text": [
            "Hll, Wrld!\n"
          ]
        }
      ]
    },
    {
      "cell_type": "markdown",
      "source": [
        "11. Imagine an accounting routine used in a book shop. It works on a list with sublists, which look like this"
      ],
      "metadata": {
        "id": "xHoG0LIQQnK_"
      }
    },
    {
      "cell_type": "code",
      "source": [
        "def calculate_order_totals(orders):\n",
        "    result = []\n",
        "    for order in orders:\n",
        "        order_number, quantity, price_per_item = order\n",
        "        total = quantity * price_per_item\n",
        "        if total < 100:\n",
        "            total += 10  # Add 10€ surcharge if the total is less than 100€\n",
        "        result.append((order_number, total))\n",
        "    return result\n",
        "\n",
        "# Example order list: [order_number, quantity, price_per_item]\n",
        "orders = [\n",
        "    [34587, 4, 40.95],\n",
        "    [98762, 5, 22.95],\n",
        "    [77226, 2, 18.99],\n",
        "    [88112, 3, 17.99]\n",
        "]\n",
        "\n",
        "# Process orders\n",
        "order_totals = calculate_order_totals(orders)\n",
        "\n",
        "# Output result\n",
        "print(order_totals)\n",
        "# Expected Output: [(34587, 163.8), (98762, 124.75), (77226, 47.98), (88112, 63.97)]"
      ],
      "metadata": {
        "colab": {
          "base_uri": "https://localhost:8080/"
        },
        "id": "vek3fCGOQtH3",
        "outputId": "c81606d1-90b5-43ce-b26d-99e7b0509387"
      },
      "execution_count": 9,
      "outputs": [
        {
          "output_type": "stream",
          "name": "stdout",
          "text": [
            "[(34587, 163.8), (98762, 114.75), (77226, 47.98), (88112, 63.97)]\n"
          ]
        }
      ]
    },
    {
      "cell_type": "markdown",
      "source": [
        "11 b=Write a Python program using lambda and map"
      ],
      "metadata": {
        "id": "_1EV4Ya1Qz9B"
      }
    },
    {
      "cell_type": "code",
      "source": [
        "orders = [\n",
        "    [34587, 4, 40.95],\n",
        "    [98762, 5, 22.95],\n",
        "    [77226, 2, 18.99],\n",
        "    [88112, 3, 17.99]\n",
        "]\n",
        "\n",
        "# Using map() and lambda to process orders\n",
        "order_totals = list(map(lambda order:\n",
        "    (order[0], order[1] * order[2] + (10 if order[1] * order[2] < 100 else 0)), orders))\n",
        "\n",
        "print(order_totals)\n",
        "# Expected Output: [(34587, 163.8), (98762, 124.75), (77226, 47.98), (88112, 63.97)]\n"
      ],
      "metadata": {
        "colab": {
          "base_uri": "https://localhost:8080/"
        },
        "id": "ynjAmXhJRFLn",
        "outputId": "6f47767b-8b43-44df-b5d7-a65b776a7892"
      },
      "execution_count": 8,
      "outputs": [
        {
          "output_type": "stream",
          "name": "stdout",
          "text": [
            "[(34587, 163.8), (98762, 114.75), (77226, 47.98), (88112, 63.97)]\n"
          ]
        }
      ]
    }
  ]
}